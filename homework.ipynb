{
 "cells": [
  {
   "attachments": {},
   "cell_type": "markdown",
   "metadata": {},
   "source": [
    "# Homework 1"
   ]
  },
  {
   "attachments": {},
   "cell_type": "markdown",
   "metadata": {},
   "source": [
    "### Discuss in your teams what a decentralised version of a game like monopoly would belike, if there was no software on a central server.\n",
    "How would you solve the problems of\n",
    "- cheating\n",
    "- ensuring agreement about the state of the system\n",
    "- communication problems (timeouts)\n",
    "- how to decide who should take the next turn\n",
    "- how to allow the correct people to join the game\n",
    "\n",
    "This is just a general discussion, there is no need to write any code or do any detailed design."
   ]
  },
  {
   "attachments": {},
   "cell_type": "markdown",
   "metadata": {},
   "source": [
    "# Homework 2"
   ]
  },
  {
   "attachments": {},
   "cell_type": "markdown",
   "metadata": {},
   "source": [
    "How many users are holding the pancake swap token 'cake'?\n",
    "- 1,332,297 Holders(March 8, 2023)\n",
    "- source: https://bscscan.com/token/0x0e09fabb73bd3ade0a17ecc321fd13a19e81ce82"
   ]
  },
  {
   "attachments": {},
   "cell_type": "markdown",
   "metadata": {},
   "source": [
    "Approximately, how many unique addresses are there?\n",
    "- 267,096,853(March 8, 2023)\n",
    "- source: https://bscscan.com/chart/address"
   ]
  },
  {
   "attachments": {},
   "cell_type": "markdown",
   "metadata": {},
   "source": [
    "Who Validated the first block after genesis block? \n",
    "- Validator: Sigm8\n",
    "- source: https://bscscan.com/blocks"
   ]
  },
  {
   "attachments": {},
   "cell_type": "markdown",
   "metadata": {},
   "source": [
    "Roughly, how many transactions are pending? \n",
    "- mean of pending is 126.435937\n",
    "- source: https://bscscan.com/chart/pendingtx?output=csv"
   ]
  },
  {
   "cell_type": "code",
   "execution_count": 1,
   "metadata": {},
   "outputs": [
    {
     "data": {
      "text/html": [
       "<div>\n",
       "<style scoped>\n",
       "    .dataframe tbody tr th:only-of-type {\n",
       "        vertical-align: middle;\n",
       "    }\n",
       "\n",
       "    .dataframe tbody tr th {\n",
       "        vertical-align: top;\n",
       "    }\n",
       "\n",
       "    .dataframe thead th {\n",
       "        text-align: right;\n",
       "    }\n",
       "</style>\n",
       "<table border=\"1\" class=\"dataframe\">\n",
       "  <thead>\n",
       "    <tr style=\"text-align: right;\">\n",
       "      <th></th>\n",
       "      <th>Value</th>\n",
       "    </tr>\n",
       "  </thead>\n",
       "  <tbody>\n",
       "    <tr>\n",
       "      <th>count</th>\n",
       "      <td>5760.000000</td>\n",
       "    </tr>\n",
       "    <tr>\n",
       "      <th>mean</th>\n",
       "      <td>126.435937</td>\n",
       "    </tr>\n",
       "    <tr>\n",
       "      <th>std</th>\n",
       "      <td>66.188230</td>\n",
       "    </tr>\n",
       "    <tr>\n",
       "      <th>min</th>\n",
       "      <td>0.000000</td>\n",
       "    </tr>\n",
       "    <tr>\n",
       "      <th>25%</th>\n",
       "      <td>86.000000</td>\n",
       "    </tr>\n",
       "    <tr>\n",
       "      <th>50%</th>\n",
       "      <td>113.000000</td>\n",
       "    </tr>\n",
       "    <tr>\n",
       "      <th>75%</th>\n",
       "      <td>150.000000</td>\n",
       "    </tr>\n",
       "    <tr>\n",
       "      <th>max</th>\n",
       "      <td>1387.000000</td>\n",
       "    </tr>\n",
       "  </tbody>\n",
       "</table>\n",
       "</div>"
      ],
      "text/plain": [
       "             Value\n",
       "count  5760.000000\n",
       "mean    126.435937\n",
       "std      66.188230\n",
       "min       0.000000\n",
       "25%      86.000000\n",
       "50%     113.000000\n",
       "75%     150.000000\n",
       "max    1387.000000"
      ]
     },
     "execution_count": 1,
     "metadata": {},
     "output_type": "execute_result"
    }
   ],
   "source": [
    "import pandas as pd\n",
    "pending_queue = pd.read_csv(\"export-PendingQueue.csv\")\n",
    "pending_queue.describe()"
   ]
  },
  {
   "attachments": {},
   "cell_type": "markdown",
   "metadata": {},
   "source": [
    "Which contract is consuming the most gas? \n",
    "- 0x10ED43C718714eb63d5aA57B78B54704E256024E \n",
    "- source: https://bscscan.com/gastracker?data=60"
   ]
  },
  {
   "attachments": {},
   "cell_type": "markdown",
   "metadata": {},
   "source": [
    "How much gas is needed to have a transaction get in a block within 5-10 s? \n",
    "- 5 Gwei (Thu, 9 Mar 2023 17:12:5)\n",
    "- source: https://bscscan.com/gastracker"
   ]
  },
  {
   "attachments": {},
   "cell_type": "markdown",
   "metadata": {},
   "source": [
    "What is special about this transaction  {0x1bfbff8411ed44e609d911476b0d35a28284545b690902806ea0a7ff0453e931} \n",
    "- 0xDb6F5FB9311aE8885620Ee893887C3D85C8293d6 created PancakeSwap's v2 Router contract (0x10ED43C718714eb63d5aA57B78B54704E256024E) at Apr-23-2021 08:12:25 AM +UTC"
   ]
  },
  {
   "attachments": {},
   "cell_type": "markdown",
   "metadata": {},
   "source": [
    "# Homework 3"
   ]
  },
  {
   "attachments": {},
   "cell_type": "markdown",
   "metadata": {},
   "source": [
    "- S1 get faucet from https://testnet.bnbchain.org/faucet-smart\n",
    "- S2 open Remix https://remix.ethereum.org/\n",
    "- S3 compile and deploy\n",
    "- Result: https://testnet.bscscan.com/tx/0x26dbb63fefb4b80a06dfca7a5d54ebc4e3d17112e93a733d9d6a501fbb45c177"
   ]
  },
  {
   "attachments": {},
   "cell_type": "markdown",
   "metadata": {},
   "source": [
    "Have a look at the abi and the bytecode, do you understand how the abi relates to your contract's code ?\n",
    "- ABI\n",
    "\t- [\n",
    "\t{\n",
    "\t\t\"inputs\": [\n",
    "\t\t\t{\n",
    "\t\t\t\t\"internalType\": \"uint256\",\n",
    "\t\t\t\t\"name\": \"num\",\n",
    "\t\t\t\t\"type\": \"uint256\"\n",
    "\t\t\t}\n",
    "\t\t],\n",
    "\t\t\"name\": \"store\",\n",
    "\t\t\"outputs\": [],\n",
    "\t\t\"stateMutability\": \"nonpayable\",\n",
    "\t\t\"type\": \"function\"\n",
    "\t},\n",
    "\t{\n",
    "\t\t\"inputs\": [],\n",
    "\t\t\"name\": \"retrieve\",\n",
    "\t\t\"outputs\": [\n",
    "\t\t\t{\n",
    "\t\t\t\t\"internalType\": \"uint256\",\n",
    "\t\t\t\t\"name\": \"\",\n",
    "\t\t\t\t\"type\": \"uint256\"\n",
    "\t\t\t}\n",
    "\t\t],\n",
    "\t\t\"stateMutability\": \"view\",\n",
    "\t\t\"type\": \"function\"\n",
    "\t}\n",
    "]"
   ]
  },
  {
   "attachments": {},
   "cell_type": "markdown",
   "metadata": {},
   "source": [
    "- Bytecode\n",
    "    - 608060405234801561001057600080fd5b50610150806100206000396000f3fe608060405234801561001057600080fd5b50600436106100365760003560e01c80632e64cec11461003b5780636057361d14610059575b600080fd5b610043610075565b60405161005091906100a1565b60405180910390f35b610073600480360381019061006e91906100ed565b61007e565b005b60008054905090565b8060008190555050565b6000819050919050565b61009b81610088565b82525050565b60006020820190506100b66000830184610092565b92915050565b600080fd5b6100ca81610088565b81146100d557600080fd5b50565b6000813590506100e7816100c1565b92915050565b600060208284031215610103576101026100bc565b5b6000610111848285016100d8565b9150509291505056fea26469706673582212205a9685e248d40df1b9e3fc4a4e1435ece0135fdb343b156b64b45f4c78bb3d9164736f6c63430008120033"
   ]
  },
  {
   "attachments": {},
   "cell_type": "markdown",
   "metadata": {},
   "source": [
    "ABI is a standardized format for defining how to call functions in a smart contract and how to interact with its data.\n",
    "\n",
    "Bytecode is the compiled version of the smart contract code, which is what is actually deployed on the blockchain.\n",
    "\n",
    "In summary, the ABI defines the contract's interface and how to interact with it, while the bytecode is the compiled version of the contract's code that actually executes on the blockchain. The ABI is used to encode transactions and function calls that interact with the contract's bytecode."
   ]
  },
  {
   "attachments": {},
   "cell_type": "markdown",
   "metadata": {},
   "source": [
    "# Homework 4"
   ]
  },
  {
   "attachments": {},
   "cell_type": "markdown",
   "metadata": {},
   "source": [
    "https://testnet.bscscan.com/address/0x12cd65d1e2e3ba4c305a2dcaa8a392f17bf46575#code"
   ]
  },
  {
   "attachments": {},
   "cell_type": "markdown",
   "metadata": {},
   "source": [
    "# Homework 5"
   ]
  },
  {
   "attachments": {},
   "cell_type": "markdown",
   "metadata": {},
   "source": [
    "https://testnet.bscscan.com/address/0x6680724d91fba407fd1b758e60999c4d89f9feee#code"
   ]
  }
 ],
 "metadata": {
  "kernelspec": {
   "display_name": "Python 3",
   "language": "python",
   "name": "python3"
  },
  "language_info": {
   "codemirror_mode": {
    "name": "ipython",
    "version": 3
   },
   "file_extension": ".py",
   "mimetype": "text/x-python",
   "name": "python",
   "nbconvert_exporter": "python",
   "pygments_lexer": "ipython3",
   "version": "3.8.9"
  },
  "orig_nbformat": 4
 },
 "nbformat": 4,
 "nbformat_minor": 2
}
